{
 "cells": [
  {
   "cell_type": "markdown",
   "id": "dee1fd71",
   "metadata": {},
   "source": [
    "# Videogame Recommendation System on Steam Data\n",
    "\n",
    "-- DISCLAIMER, data is from https://www.kaggle.com/datasets/tamber/steam-video-games/data, I don't work at Steam. Lol"
   ]
  },
  {
   "cell_type": "markdown",
   "id": "ab81be4b",
   "metadata": {},
   "source": [
    "## First things first, reading in the dataset and performing EDAs"
   ]
  },
  {
   "cell_type": "code",
   "execution_count": 1,
   "id": "4c881b1d",
   "metadata": {},
   "outputs": [],
   "source": [
    "# Importing pands to read in the dataset and analyze it\n",
    "import pandas as pd\n",
    "\n",
    "# Steam Videogames\n",
    "SteamVGs = pd.read_csv('steam-200k.csv')"
   ]
  },
  {
   "cell_type": "markdown",
   "id": "b510ddd7",
   "metadata": {},
   "source": [
    "## Now looking at the dataset with exactly 200k rows, we can see the following columns -\n",
    "- User ID\n",
    "- Game Name\n",
    "- Purchase/Play \n",
    "- 1.0 if behavior is purchase, number of hours played if behavior is play\n",
    "- A random column filled with 200k 0s"
   ]
  },
  {
   "cell_type": "code",
   "execution_count": 2,
   "id": "9f593dd9",
   "metadata": {},
   "outputs": [
    {
     "data": {
      "text/html": [
       "<div>\n",
       "<style scoped>\n",
       "    .dataframe tbody tr th:only-of-type {\n",
       "        vertical-align: middle;\n",
       "    }\n",
       "\n",
       "    .dataframe tbody tr th {\n",
       "        vertical-align: top;\n",
       "    }\n",
       "\n",
       "    .dataframe thead th {\n",
       "        text-align: right;\n",
       "    }\n",
       "</style>\n",
       "<table border=\"1\" class=\"dataframe\">\n",
       "  <thead>\n",
       "    <tr style=\"text-align: right;\">\n",
       "      <th></th>\n",
       "      <th>151603712</th>\n",
       "      <th>The Elder Scrolls V Skyrim</th>\n",
       "      <th>purchase</th>\n",
       "      <th>1.0</th>\n",
       "      <th>0</th>\n",
       "    </tr>\n",
       "  </thead>\n",
       "  <tbody>\n",
       "    <tr>\n",
       "      <th>0</th>\n",
       "      <td>151603712</td>\n",
       "      <td>The Elder Scrolls V Skyrim</td>\n",
       "      <td>play</td>\n",
       "      <td>273.0</td>\n",
       "      <td>0</td>\n",
       "    </tr>\n",
       "    <tr>\n",
       "      <th>1</th>\n",
       "      <td>151603712</td>\n",
       "      <td>Fallout 4</td>\n",
       "      <td>purchase</td>\n",
       "      <td>1.0</td>\n",
       "      <td>0</td>\n",
       "    </tr>\n",
       "    <tr>\n",
       "      <th>2</th>\n",
       "      <td>151603712</td>\n",
       "      <td>Fallout 4</td>\n",
       "      <td>play</td>\n",
       "      <td>87.0</td>\n",
       "      <td>0</td>\n",
       "    </tr>\n",
       "    <tr>\n",
       "      <th>3</th>\n",
       "      <td>151603712</td>\n",
       "      <td>Spore</td>\n",
       "      <td>purchase</td>\n",
       "      <td>1.0</td>\n",
       "      <td>0</td>\n",
       "    </tr>\n",
       "    <tr>\n",
       "      <th>4</th>\n",
       "      <td>151603712</td>\n",
       "      <td>Spore</td>\n",
       "      <td>play</td>\n",
       "      <td>14.9</td>\n",
       "      <td>0</td>\n",
       "    </tr>\n",
       "    <tr>\n",
       "      <th>...</th>\n",
       "      <td>...</td>\n",
       "      <td>...</td>\n",
       "      <td>...</td>\n",
       "      <td>...</td>\n",
       "      <td>...</td>\n",
       "    </tr>\n",
       "    <tr>\n",
       "      <th>199994</th>\n",
       "      <td>128470551</td>\n",
       "      <td>Titan Souls</td>\n",
       "      <td>play</td>\n",
       "      <td>1.5</td>\n",
       "      <td>0</td>\n",
       "    </tr>\n",
       "    <tr>\n",
       "      <th>199995</th>\n",
       "      <td>128470551</td>\n",
       "      <td>Grand Theft Auto Vice City</td>\n",
       "      <td>purchase</td>\n",
       "      <td>1.0</td>\n",
       "      <td>0</td>\n",
       "    </tr>\n",
       "    <tr>\n",
       "      <th>199996</th>\n",
       "      <td>128470551</td>\n",
       "      <td>Grand Theft Auto Vice City</td>\n",
       "      <td>play</td>\n",
       "      <td>1.5</td>\n",
       "      <td>0</td>\n",
       "    </tr>\n",
       "    <tr>\n",
       "      <th>199997</th>\n",
       "      <td>128470551</td>\n",
       "      <td>RUSH</td>\n",
       "      <td>purchase</td>\n",
       "      <td>1.0</td>\n",
       "      <td>0</td>\n",
       "    </tr>\n",
       "    <tr>\n",
       "      <th>199998</th>\n",
       "      <td>128470551</td>\n",
       "      <td>RUSH</td>\n",
       "      <td>play</td>\n",
       "      <td>1.4</td>\n",
       "      <td>0</td>\n",
       "    </tr>\n",
       "  </tbody>\n",
       "</table>\n",
       "<p>199999 rows × 5 columns</p>\n",
       "</div>"
      ],
      "text/plain": [
       "        151603712  The Elder Scrolls V Skyrim  purchase    1.0  0\n",
       "0       151603712  The Elder Scrolls V Skyrim      play  273.0  0\n",
       "1       151603712                   Fallout 4  purchase    1.0  0\n",
       "2       151603712                   Fallout 4      play   87.0  0\n",
       "3       151603712                       Spore  purchase    1.0  0\n",
       "4       151603712                       Spore      play   14.9  0\n",
       "...           ...                         ...       ...    ... ..\n",
       "199994  128470551                 Titan Souls      play    1.5  0\n",
       "199995  128470551  Grand Theft Auto Vice City  purchase    1.0  0\n",
       "199996  128470551  Grand Theft Auto Vice City      play    1.5  0\n",
       "199997  128470551                        RUSH  purchase    1.0  0\n",
       "199998  128470551                        RUSH      play    1.4  0\n",
       "\n",
       "[199999 rows x 5 columns]"
      ]
     },
     "execution_count": 2,
     "metadata": {},
     "output_type": "execute_result"
    }
   ],
   "source": [
    "SteamVGs"
   ]
  },
  {
   "cell_type": "code",
   "execution_count": 3,
   "id": "906e334b",
   "metadata": {},
   "outputs": [
    {
     "name": "stdout",
     "output_type": "stream",
     "text": [
      "<class 'pandas.core.frame.DataFrame'>\n",
      "RangeIndex: 199999 entries, 0 to 199998\n",
      "Data columns (total 5 columns):\n",
      " #   Column                      Non-Null Count   Dtype  \n",
      "---  ------                      --------------   -----  \n",
      " 0   151603712                   199999 non-null  int64  \n",
      " 1   The Elder Scrolls V Skyrim  199999 non-null  object \n",
      " 2   purchase                    199999 non-null  object \n",
      " 3   1.0                         199999 non-null  float64\n",
      " 4   0                           199999 non-null  int64  \n",
      "dtypes: float64(1), int64(2), object(2)\n",
      "memory usage: 7.6+ MB\n"
     ]
    }
   ],
   "source": [
    "SteamVGs.info()"
   ]
  },
  {
   "cell_type": "markdown",
   "id": "0f879a00",
   "metadata": {},
   "source": [
    "## This dataset is really, really clean, but it definitely has some problems with it. The first things I want to clean up before I work on this dataset is to -\n",
    "- Fix dataset to have proper column titles\n",
    "- Drop that column with 200k 0s"
   ]
  },
  {
   "cell_type": "code",
   "execution_count": 4,
   "id": "78d884a3",
   "metadata": {},
   "outputs": [
    {
     "data": {
      "text/html": [
       "<div>\n",
       "<style scoped>\n",
       "    .dataframe tbody tr th:only-of-type {\n",
       "        vertical-align: middle;\n",
       "    }\n",
       "\n",
       "    .dataframe tbody tr th {\n",
       "        vertical-align: top;\n",
       "    }\n",
       "\n",
       "    .dataframe thead th {\n",
       "        text-align: right;\n",
       "    }\n",
       "</style>\n",
       "<table border=\"1\" class=\"dataframe\">\n",
       "  <thead>\n",
       "    <tr style=\"text-align: right;\">\n",
       "      <th></th>\n",
       "      <th>User_ID</th>\n",
       "      <th>Videogame</th>\n",
       "      <th>Purchase/Play</th>\n",
       "      <th>Hours_Played</th>\n",
       "    </tr>\n",
       "  </thead>\n",
       "  <tbody>\n",
       "    <tr>\n",
       "      <th>0</th>\n",
       "      <td>151603712</td>\n",
       "      <td>The Elder Scrolls V Skyrim</td>\n",
       "      <td>purchase</td>\n",
       "      <td>1.0</td>\n",
       "    </tr>\n",
       "    <tr>\n",
       "      <th>1</th>\n",
       "      <td>151603712</td>\n",
       "      <td>The Elder Scrolls V Skyrim</td>\n",
       "      <td>play</td>\n",
       "      <td>273.0</td>\n",
       "    </tr>\n",
       "    <tr>\n",
       "      <th>2</th>\n",
       "      <td>151603712</td>\n",
       "      <td>Fallout 4</td>\n",
       "      <td>purchase</td>\n",
       "      <td>1.0</td>\n",
       "    </tr>\n",
       "    <tr>\n",
       "      <th>3</th>\n",
       "      <td>151603712</td>\n",
       "      <td>Fallout 4</td>\n",
       "      <td>play</td>\n",
       "      <td>87.0</td>\n",
       "    </tr>\n",
       "    <tr>\n",
       "      <th>4</th>\n",
       "      <td>151603712</td>\n",
       "      <td>Spore</td>\n",
       "      <td>purchase</td>\n",
       "      <td>1.0</td>\n",
       "    </tr>\n",
       "    <tr>\n",
       "      <th>...</th>\n",
       "      <td>...</td>\n",
       "      <td>...</td>\n",
       "      <td>...</td>\n",
       "      <td>...</td>\n",
       "    </tr>\n",
       "    <tr>\n",
       "      <th>199995</th>\n",
       "      <td>128470551</td>\n",
       "      <td>Titan Souls</td>\n",
       "      <td>play</td>\n",
       "      <td>1.5</td>\n",
       "    </tr>\n",
       "    <tr>\n",
       "      <th>199996</th>\n",
       "      <td>128470551</td>\n",
       "      <td>Grand Theft Auto Vice City</td>\n",
       "      <td>purchase</td>\n",
       "      <td>1.0</td>\n",
       "    </tr>\n",
       "    <tr>\n",
       "      <th>199997</th>\n",
       "      <td>128470551</td>\n",
       "      <td>Grand Theft Auto Vice City</td>\n",
       "      <td>play</td>\n",
       "      <td>1.5</td>\n",
       "    </tr>\n",
       "    <tr>\n",
       "      <th>199998</th>\n",
       "      <td>128470551</td>\n",
       "      <td>RUSH</td>\n",
       "      <td>purchase</td>\n",
       "      <td>1.0</td>\n",
       "    </tr>\n",
       "    <tr>\n",
       "      <th>199999</th>\n",
       "      <td>128470551</td>\n",
       "      <td>RUSH</td>\n",
       "      <td>play</td>\n",
       "      <td>1.4</td>\n",
       "    </tr>\n",
       "  </tbody>\n",
       "</table>\n",
       "<p>200000 rows × 4 columns</p>\n",
       "</div>"
      ],
      "text/plain": [
       "          User_ID                   Videogame Purchase/Play  Hours_Played\n",
       "0       151603712  The Elder Scrolls V Skyrim      purchase           1.0\n",
       "1       151603712  The Elder Scrolls V Skyrim          play         273.0\n",
       "2       151603712                   Fallout 4      purchase           1.0\n",
       "3       151603712                   Fallout 4          play          87.0\n",
       "4       151603712                       Spore      purchase           1.0\n",
       "...           ...                         ...           ...           ...\n",
       "199995  128470551                 Titan Souls          play           1.5\n",
       "199996  128470551  Grand Theft Auto Vice City      purchase           1.0\n",
       "199997  128470551  Grand Theft Auto Vice City          play           1.5\n",
       "199998  128470551                        RUSH      purchase           1.0\n",
       "199999  128470551                        RUSH          play           1.4\n",
       "\n",
       "[200000 rows x 4 columns]"
      ]
     },
     "execution_count": 4,
     "metadata": {},
     "output_type": "execute_result"
    }
   ],
   "source": [
    "# Since the dataset has no titls, creating a list of titles\n",
    "columns = ['User_ID', 'Videogame', 'Purchase/Play', 'Hours_Played', 'Drop_this']\n",
    "\n",
    "# Reading the data in, but removing the assumed title, and assigning names to the list\n",
    "SteamVGs = pd.read_csv('steam-200k.csv', header=None, names=columns)\n",
    "\n",
    "# Dropping that last useless column\n",
    "SteamVGs.drop(\"Drop_this\", axis=1, inplace=True)\n",
    "\n",
    "SteamVGs"
   ]
  },
  {
   "cell_type": "markdown",
   "id": "f23fe2e5",
   "metadata": {},
   "source": [
    "## Visualizing the data to try and understand the data a little bit more. Ideas:\n",
    "- Unique users count, users that appear the most, users that appear the least\n",
    "- Users by play time, top 25, and bottom 25\n",
    "- Videogames, sorted by count, top 25 vg counts, bottom vg counts\n",
    "- Videogames by play time, top 25 vgs by play time, bottom vgs play times"
   ]
  },
  {
   "cell_type": "markdown",
   "id": "d30d0ded",
   "metadata": {},
   "source": [
    "### User counts visuals section:"
   ]
  },
  {
   "cell_type": "code",
   "execution_count": 18,
   "id": "33cd348a",
   "metadata": {},
   "outputs": [],
   "source": [
    "# Importing relevant packages for visualizations\n",
    "import matplotlib.pyplot as plt\n",
    "import seaborn as sns\n",
    "%matplotlib inline"
   ]
  },
  {
   "cell_type": "code",
   "execution_count": 17,
   "id": "e7f12ee1",
   "metadata": {},
   "outputs": [
    {
     "name": "stdout",
     "output_type": "stream",
     "text": [
      "There are 12393 users in the dataset.\n"
     ]
    }
   ],
   "source": [
    "# Printing the number of unique users\n",
    "print(\"There are\", len(SteamVGs['User_ID'].unique()), \"users in the dataset.\")"
   ]
  },
  {
   "cell_type": "code",
   "execution_count": 62,
   "id": "c9426526",
   "metadata": {},
   "outputs": [
    {
     "data": {
      "text/plain": [
       "<Axes: ylabel='User_ID'>"
      ]
     },
     "execution_count": 62,
     "metadata": {},
     "output_type": "execute_result"
    },
    {
     "data": {
      "image/png": "[encoded data removed]",
      "text/plain": [
       "<Figure size 640x480 with 1 Axes>"
      ]
     },
     "metadata": {},
     "output_type": "display_data"
    }
   ],
   "source": [
    "# Top 25 users that appear the most\n",
    "SteamVGs['User_ID'].value_counts(ascending=True).sort_values().tail(25).plot(kind='barh')"
   ]
  },
  {
   "cell_type": "code",
   "execution_count": 56,
   "id": "c042d333",
   "metadata": {},
   "outputs": [
    {
     "name": "stdout",
     "output_type": "stream",
     "text": [
      "There are 572 users that only appear once in the dataset.\n"
     ]
    }
   ],
   "source": [
    "# Users that appear the least\n",
    "print(\"There are\", len(SteamVGs['User_ID'].drop_duplicates(keep=False)), \"users that only appear once in the dataset.\")"
   ]
  },
  {
   "cell_type": "markdown",
   "id": "b378a049",
   "metadata": {},
   "source": [
    "### User counts by play time section:"
   ]
  },
  {
   "cell_type": "code",
   "execution_count": 57,
   "id": "36afa9f1",
   "metadata": {},
   "outputs": [],
   "source": [
    "# Placeholder"
   ]
  },
  {
   "cell_type": "markdown",
   "id": "c3219e3c",
   "metadata": {},
   "source": [
    "### Videogame counts section:"
   ]
  },
  {
   "cell_type": "code",
   "execution_count": 59,
   "id": "9a3fbd64",
   "metadata": {},
   "outputs": [],
   "source": [
    "# Placeholder"
   ]
  },
  {
   "cell_type": "markdown",
   "id": "b917edf0",
   "metadata": {},
   "source": [
    "### Videogame by play time section:"
   ]
  },
  {
   "cell_type": "code",
   "execution_count": null,
   "id": "6e24c039",
   "metadata": {},
   "outputs": [],
   "source": [
    "# Placeholder"
   ]
  }
 ],
 "metadata": {
  "kernelspec": {
   "display_name": "Python 3 (ipykernel)",
   "language": "python",
   "name": "python3"
  },
  "language_info": {
   "codemirror_mode": {
    "name": "ipython",
    "version": 3
   },
   "file_extension": ".py",
   "mimetype": "text/x-python",
   "name": "python",
   "nbconvert_exporter": "python",
   "pygments_lexer": "ipython3",
   "version": "3.11.5"
  }
 },
 "nbformat": 4,
 "nbformat_minor": 5
}
